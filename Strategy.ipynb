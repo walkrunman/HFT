{
 "cells": [
  {
   "cell_type": "code",
   "execution_count": 1,
   "id": "6ae07c75",
   "metadata": {},
   "outputs": [],
   "source": [
    "from simulator import Sim\n",
    "from strategy1 import Strategy\n",
    "from strategy1 import *\n",
    "from get_info import get_pnl\n",
    "from load_data import load_md_from_file\n",
    "\n",
    "\n",
    "import pandas as pd\n",
    "import numpy as np\n",
    "from matplotlib import pyplot as plt"
   ]
  },
  {
   "cell_type": "code",
   "execution_count": 2,
   "id": "b38768e5",
   "metadata": {},
   "outputs": [],
   "source": [
    "PATH_TO_BTC = r'C:\\Users\\walkr\\Documents\\HFT\\HFT\\simulator\\data\\BTC'\n",
    "PATH_TO_ETH = r'C:\\Users\\walkr\\Documents\\HFT\\HFT\\simulator\\data\\ETH'\n",
    "\n",
    "T = pd.Timedelta(1, 'h').delta\n",
    "md_btc = load_md_from_file(path=PATH_TO_BTC, T=T)\n",
    "md_eth = load_md_from_file(path=PATH_TO_ETH, T=T)\n",
    "latency = pd.Timedelta(10, 'ms').delta\n",
    "md_latency = pd.Timedelta(10, 'ms').delta"
   ]
  },
  {
   "cell_type": "code",
   "execution_count": 3,
   "id": "19cd1ac1",
   "metadata": {},
   "outputs": [],
   "source": [
    "delay = pd.Timedelta(0.1, 's').delta\n",
    "hold_time = pd.Timedelta(2, 's').delta\n",
    "\n",
    "sim_btc = Sim(md_btc, latency, md_latency)\n",
    "sim_eth = Sim(md_eth, latency, md_latency)"
   ]
  },
  {
   "cell_type": "code",
   "execution_count": 4,
   "id": "01979b93",
   "metadata": {},
   "outputs": [],
   "source": [
    "sigma_btc = 28.267183019829968\n",
    "sigma_eth = 2.5749407232019585\n",
    "rho = 0.82513964"
   ]
  },
  {
   "cell_type": "code",
   "execution_count": 5,
   "id": "27a6ffcd",
   "metadata": {},
   "outputs": [],
   "source": [
    "gamma = 7\n",
    "big_delta_btc = 2\n",
    "big_delta_eth = 1 #1\n",
    "A = 0.8\n",
    "ksi = 1.8\n",
    "k = 8\n",
    "intensity_btc = 5\n",
    "intensity_eth = 5\n",
    "\n",
    "E = E_f(sigma_btc, sigma_eth, rho)\n",
    "big_gamma = big_gamma_f(E, A, k, big_delta_btc, ksi, A, k, big_delta_eth, ksi)"
   ]
  },
  {
   "cell_type": "code",
   "execution_count": 6,
   "id": "faa37a60",
   "metadata": {},
   "outputs": [],
   "source": [
    "strategy = Strategy(delay, hold_time,\n",
    "                    gamma, big_gamma, ksi, intensity_btc, intensity_eth,\n",
    "                    big_delta_btc, big_delta_eth, A, k\n",
    "                    )\n",
    "trades_list_btc, md_list_btc, updates_list_btc, all_orders_btc, trades_list_eth, md_list_eth, updates_list_eth, all_orders_eth = strategy.run(sim_btc, sim_eth)"
   ]
  },
  {
   "cell_type": "markdown",
   "id": "4da7dd91",
   "metadata": {},
   "source": [
    "# PNL BTC"
   ]
  },
  {
   "cell_type": "code",
   "execution_count": null,
   "id": "9f3b362f",
   "metadata": {},
   "outputs": [],
   "source": [
    "df = get_pnl(updates_list_btc)\n",
    "\n",
    "dt = pd.to_datetime(df.receive_ts)\n",
    "\n",
    "plt.figure(figsize=(10, 5))\n",
    "plt.plot(dt, df.total, '-')\n",
    "plt.xlabel(\"time\", fontsize=13)\n",
    "plt.ylabel(\"PnL\", fontsize=13)\n",
    "plt.title(\"BestStrategy PnL\", fontsize=15)\n",
    "plt.grid()\n",
    "plt.show()\n"
   ]
  },
  {
   "cell_type": "markdown",
   "id": "5c15ce4f",
   "metadata": {},
   "source": [
    "# BTC position"
   ]
  },
  {
   "cell_type": "code",
   "execution_count": null,
   "id": "b3ab644e",
   "metadata": {},
   "outputs": [],
   "source": [
    "(df[\"BTC\"]).plot()"
   ]
  },
  {
   "cell_type": "markdown",
   "id": "5e380a2c",
   "metadata": {},
   "source": [
    "# PNL ETH"
   ]
  },
  {
   "cell_type": "code",
   "execution_count": null,
   "id": "d8709c05",
   "metadata": {},
   "outputs": [],
   "source": [
    "df = get_pnl(updates_list_eth)\n",
    "\n",
    "dt = pd.to_datetime(df.receive_ts)\n",
    "\n",
    "plt.figure(figsize=(10, 5))\n",
    "plt.plot(dt, df.total, '-')\n",
    "plt.xlabel(\"time\", fontsize=13)\n",
    "plt.ylabel(\"PnL\", fontsize=13)\n",
    "plt.title(\"BestStrategy PnL\", fontsize=15)\n",
    "plt.grid()\n",
    "plt.show()"
   ]
  },
  {
   "cell_type": "markdown",
   "id": "22db89c8",
   "metadata": {},
   "source": [
    "# ETH Position"
   ]
  },
  {
   "cell_type": "code",
   "execution_count": null,
   "id": "d16fbda0",
   "metadata": {},
   "outputs": [],
   "source": [
    "(df[\"BTC\"]).plot()"
   ]
  },
  {
   "cell_type": "markdown",
   "id": "c3879e03",
   "metadata": {},
   "source": [
    "# Traded volumes BTC (ASK, BID)"
   ]
  },
  {
   "cell_type": "code",
   "execution_count": null,
   "id": "6aba61e5",
   "metadata": {},
   "outputs": [],
   "source": [
    "trades = {\"time\":[], \"size\": [], \"side\": []}\n",
    "for trade in trades_list_btc:\n",
    "    trades[\"time\"].append(trade.exchange_ts)\n",
    "    trades[\"size\"].append(trade.size)\n",
    "    trades[\"side\"].append(trade.side)\n",
    "\n",
    "trades = pd.DataFrame(trades)\n",
    "trades[\"size\"] = trades[\"size\"].cumsum()\n",
    "trades[(trades[\"side\"]==\"ASK\") | (trades[\"side\"]==\"BID\")].set_index(\"time\").plot()\n",
    "trades[trades[\"side\"]==\"BID\"].set_index(\"time\").plot()\n"
   ]
  },
  {
   "cell_type": "markdown",
   "id": "78882110",
   "metadata": {},
   "source": [
    "# Traded volumes ETH (ASK, BID)"
   ]
  },
  {
   "cell_type": "code",
   "execution_count": null,
   "id": "f58bd54d",
   "metadata": {},
   "outputs": [],
   "source": [
    "trades = {\"time\":[], \"size\": [], \"side\": []}\n",
    "for trade in trades_list_eth:\n",
    "    trades[\"time\"].append(trade.exchange_ts)\n",
    "    trades[\"size\"].append(trade.size)\n",
    "    trades[\"side\"].append(trade.side)\n",
    "\n",
    "trades = pd.DataFrame(trades)\n",
    "trades[\"size\"] = trades[\"size\"].cumsum()\n",
    "trades[(trades[\"side\"]==\"ASK\") | (trades[\"side\"]==\"BID\")].set_index(\"time\").plot()\n",
    "trades[trades[\"side\"]==\"BID\"].set_index(\"time\").plot()\n"
   ]
  }
 ],
 "metadata": {
  "kernelspec": {
   "display_name": "Python 3 (ipykernel)",
   "language": "python",
   "name": "python3"
  },
  "language_info": {
   "codemirror_mode": {
    "name": "ipython",
    "version": 3
   },
   "file_extension": ".py",
   "mimetype": "text/x-python",
   "name": "python",
   "nbconvert_exporter": "python",
   "pygments_lexer": "ipython3",
   "version": "3.9.12"
  }
 },
 "nbformat": 4,
 "nbformat_minor": 5
}
